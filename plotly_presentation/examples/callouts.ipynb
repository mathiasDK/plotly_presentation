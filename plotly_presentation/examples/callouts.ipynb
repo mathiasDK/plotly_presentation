{
 "cells": [
  {
   "cell_type": "code",
   "execution_count": 1,
   "metadata": {},
   "outputs": [],
   "source": [
    "from plotly_presentation import Plotter\n",
    "import plotly.graph_objs as go"
   ]
  },
  {
   "cell_type": "code",
   "execution_count": 4,
   "metadata": {},
   "outputs": [
    {
     "data": {
      "application/vnd.plotly.v1+json": {
       "config": {
        "plotlyServerURL": "https://plot.ly"
       },
       "data": [
        {
         "alignmentgroup": "True",
         "hovertemplate": "color=a<br>x=%{x}<br>y=%{y}<extra></extra>",
         "legendgroup": "a",
         "marker": {
          "color": "#D73809",
          "pattern": {
           "shape": ""
          }
         },
         "name": "a",
         "offsetgroup": "a",
         "orientation": "v",
         "showlegend": true,
         "textposition": "auto",
         "type": "bar",
         "x": [
          "cat1",
          "cat2",
          "cat3",
          "cat4"
         ],
         "xaxis": "x",
         "y": [
          1,
          2,
          3,
          4
         ],
         "yaxis": "y"
        },
        {
         "alignmentgroup": "True",
         "hovertemplate": "color=b<br>x=%{x}<br>y=%{y}<extra></extra>",
         "legendgroup": "b",
         "marker": {
          "color": "#60748D",
          "pattern": {
           "shape": ""
          }
         },
         "name": "b",
         "offsetgroup": "b",
         "orientation": "v",
         "showlegend": true,
         "textposition": "auto",
         "type": "bar",
         "x": [
          "cat1",
          "cat2",
          "cat3",
          "cat4"
         ],
         "xaxis": "x",
         "y": [
          3,
          3,
          2,
          4
         ],
         "yaxis": "y"
        }
       ],
       "layout": {
        "annotations": [
         {
          "bgcolor": "#ffffff",
          "borderpad": 2,
          "font": {
           "color": "#000000",
           "size": 10
          },
          "showarrow": false,
          "text": "<b>-2</b>",
          "x": 0.30000000000000004,
          "xref": "x2",
          "y": 3.1
         },
         {
          "bgcolor": "#ffffff",
          "borderpad": 2,
          "font": {
           "color": "#000000",
           "size": 10
          },
          "showarrow": false,
          "text": "<b>-1</b>",
          "x": 1.3,
          "xref": "x2",
          "y": 3.1
         },
         {
          "bgcolor": "#ffffff",
          "borderpad": 2,
          "font": {
           "color": "#000000",
           "size": 10
          },
          "showarrow": false,
          "text": "<b>1</b>",
          "x": 2.6999999999999997,
          "xref": "x2",
          "y": 3.1
         }
        ],
        "barmode": "group",
        "height": 540,
        "legend": {
         "title": {
          "text": "color"
         },
         "tracegroupgap": 0
        },
        "shapes": [
         {
          "line": {
           "color": "#222222",
           "dash": "dash",
           "width": 2
          },
          "opacity": 0.7,
          "type": "line",
          "x0": 0.30000000000000004,
          "x1": 0.30000000000000004,
          "xref": "x2",
          "y0": 3,
          "y1": 1
         },
         {
          "line": {
           "color": "#222222",
           "width": 2
          },
          "type": "line",
          "x0": 0.1,
          "x1": 0.5,
          "xref": "x2",
          "y0": 3,
          "y1": 3
         },
         {
          "line": {
           "color": "#222222",
           "dash": "dash",
           "width": 2
          },
          "opacity": 0.7,
          "type": "line",
          "x0": 1.3,
          "x1": 1.3,
          "xref": "x2",
          "y0": 3,
          "y1": 2
         },
         {
          "line": {
           "color": "#222222",
           "width": 2
          },
          "type": "line",
          "x0": 1.1,
          "x1": 1.5,
          "xref": "x2",
          "y0": 3,
          "y1": 3
         },
         {
          "line": {
           "color": "#222222",
           "dash": "dash",
           "width": 2
          },
          "opacity": 0.7,
          "type": "line",
          "x0": 2.6999999999999997,
          "x1": 2.6999999999999997,
          "xref": "x2",
          "y0": 2,
          "y1": 3
         },
         {
          "line": {
           "color": "#222222",
           "width": 2
          },
          "type": "line",
          "x0": 2.9,
          "x1": 2.5,
          "xref": "x2",
          "y0": 3,
          "y1": 3
         }
        ],
        "template": {
         "layout": {
          "annotationdefaults": {
           "arrowcolor": "#222222",
           "arrowhead": 0,
           "arrowwidth": 1,
           "bgcolor": "#ffffff",
           "font": {
            "color": "#000000"
           }
          },
          "autotypenumbers": "strict",
          "barcornerradius": 10,
          "bargap": 0.2,
          "coloraxis": {
           "colorbar": {
            "outlinewidth": 1,
            "tickcolor": "rgb(36,36,36)",
            "ticks": "outside"
           }
          },
          "colorscale": {
           "diverging": [
            [
             0,
             "#D73809"
            ],
            [
             0.5,
             "#c2c2c2"
            ],
            [
             1,
             "#940C08"
            ]
           ],
           "sequential": [
            [
             0,
             "#D73809"
            ],
            [
             1,
             "#f98f70"
            ]
           ],
           "sequentialminus": [
            [
             0,
             "#f98f70"
            ],
            [
             1,
             "#D73809"
            ]
           ]
          },
          "colorway": [
           "#D73809",
           "#60748D",
           "#940C08",
           "#CA5E1B",
           "#BD6A5F",
           "#3D180F",
           "#C2322D",
           "#5C3431",
           "#B79F9F",
           "#CFD6D5"
          ],
          "font": {
           "color": "#000000"
          },
          "geo": {
           "lakecolor": "white",
           "landcolor": "white",
           "showlakes": true,
           "showland": true,
           "subunitcolor": "white"
          },
          "hoverlabel": {
           "align": "left"
          },
          "hovermode": "closest",
          "mapbox": {
           "style": "light"
          },
          "margin": {
           "b": 20,
           "l": 20,
           "r": 20,
           "t": 70
          },
          "paper_bgcolor": "#ffffff",
          "plot_bgcolor": "#ffffff",
          "polar": {
           "angularaxis": {
            "gridcolor": "rgb(232,232,232)",
            "linecolor": "rgb(36,36,36)",
            "showgrid": false,
            "showline": true,
            "ticks": "outside"
           },
           "radialaxis": {
            "gridcolor": "rgb(232,232,232)",
            "linecolor": "rgb(36,36,36)",
            "showgrid": false,
            "showline": true,
            "ticks": "outside"
           }
          },
          "scene": {
           "xaxis": {
            "backgroundcolor": "white",
            "gridcolor": "rgb(232,232,232)",
            "gridwidth": 2,
            "linecolor": "rgb(36,36,36)",
            "showbackground": true,
            "showgrid": false,
            "showline": true,
            "ticks": "outside",
            "zeroline": false,
            "zerolinecolor": "rgb(36,36,36)"
           },
           "yaxis": {
            "backgroundcolor": "white",
            "gridcolor": "rgb(232,232,232)",
            "gridwidth": 2,
            "linecolor": "rgb(36,36,36)",
            "showbackground": true,
            "showgrid": false,
            "showline": true,
            "ticks": "outside",
            "zeroline": false,
            "zerolinecolor": "rgb(36,36,36)"
           },
           "zaxis": {
            "backgroundcolor": "white",
            "gridcolor": "rgb(232,232,232)",
            "gridwidth": 2,
            "linecolor": "rgb(36,36,36)",
            "showbackground": true,
            "showgrid": false,
            "showline": true,
            "ticks": "outside",
            "zeroline": false,
            "zerolinecolor": "rgb(36,36,36)"
           }
          },
          "shapedefaults": {
           "fillcolor": "black",
           "line": {
            "width": 0
           }
          },
          "ternary": {
           "aaxis": {
            "gridcolor": "rgb(232,232,232)",
            "linecolor": "rgb(36,36,36)",
            "showgrid": false,
            "showline": true,
            "ticks": "outside"
           },
           "baxis": {
            "gridcolor": "rgb(232,232,232)",
            "linecolor": "rgb(36,36,36)",
            "showgrid": false,
            "showline": true,
            "ticks": "outside"
           },
           "caxis": {
            "gridcolor": "rgb(232,232,232)",
            "linecolor": "rgb(36,36,36)",
            "showgrid": false,
            "showline": true,
            "ticks": "outside"
           }
          },
          "title": {
           "x": 0.05
          },
          "xaxis": {
           "automargin": true,
           "gridcolor": "#ffffff",
           "linecolor": "#000000",
           "showgrid": false,
           "showline": true,
           "ticks": "outside",
           "title": {
            "standoff": 15
           },
           "zeroline": false,
           "zerolinecolor": "#000000"
          },
          "yaxis": {
           "automargin": true,
           "gridcolor": "#ffffff",
           "linecolor": "#000000",
           "showgrid": false,
           "showline": true,
           "ticks": "outside",
           "title": {
            "standoff": 15
           },
           "zeroline": false,
           "zerolinecolor": "#000000"
          }
         }
        },
        "width": 480,
        "xaxis": {
         "anchor": "y",
         "domain": [
          0,
          1
         ],
         "title": {
          "text": "x"
         }
        },
        "xaxis2": {
         "overlaying": "x",
         "range": [
          0,
          4
         ],
         "showticklabels": false
        },
        "yaxis": {
         "anchor": "x",
         "domain": [
          0,
          1
         ],
         "title": {
          "text": "y"
         }
        }
       }
      }
     },
     "metadata": {},
     "output_type": "display_data"
    }
   ],
   "source": [
    "p = Plotter(slide_layout=\"slide_50%\")\n",
    "p.express(\n",
    "    type=\"bar\",\n",
    "    x=[\"cat1\", \"cat1\", \"cat2\", \"cat2\", \"cat3\", \"cat3\", \"cat4\", \"cat4\"],\n",
    "    y=[1, 3, 2, 3, 3, 2, 4, 4],\n",
    "    color=[\"a\", \"b\", \"a\", \"b\", \"a\", \"b\", \"a\", \"b\"],\n",
    "    barmode=\"group\"\n",
    ")\n",
    "p.callout.add_line_differences(\n",
    "    primary_trace_name=\"b\",\n",
    "    secondary_trace_name=\"a\",\n",
    "    text_type=\"difference\",\n",
    "    text_format=\".0f\",\n",
    "    y_offset=0.1\n",
    ")\n",
    "p.show()"
   ]
  },
  {
   "cell_type": "code",
   "execution_count": 19,
   "metadata": {},
   "outputs": [
    {
     "data": {
      "text/plain": [
       "'1.012'"
      ]
     },
     "execution_count": 19,
     "metadata": {},
     "output_type": "execute_result"
    }
   ],
   "source": [
    "format =\":.0f\"\n",
    "val = 1.012\n",
    "f\"{str(val).format(format)}\""
   ]
  },
  {
   "cell_type": "markdown",
   "metadata": {},
   "source": [
    "p = Plotter(slide_layout=\"slide_50%\")\n",
    "p.express(\n",
    "    type=\"bar\",\n",
    "    x=[\"cat1\", \"cat1\", \"cat2\", \"cat2\", \"cat3\", \"cat3\", \"cat4\", \"cat4\"],\n",
    "    y=[1, 3, 2, 3, 3, 2, 4, 4],\n",
    "    color=[\"a\", \"b\", \"a\", \"b\", \"a\", \"b\", \"a\", \"b\"],\n",
    "    barmode=\"group\"\n",
    ")\n",
    "name_primary = \"b\"\n",
    "name_comparison = \"a\"\n",
    "bargap=0.2\n",
    "print(p.figure.layout.template.layout.bargap)\n",
    "\n",
    "for d in p.figure.data:\n",
    "    print(type(d) == go._bar.Bar)\n",
    "    if d.name == name_primary:\n",
    "        primary_xs = list(d.x)\n",
    "        primary_ys = list(d.y)\n",
    "    elif d.name == name_comparison:\n",
    "        comparison_xs = list(d.x)\n",
    "        comparison_ys = list(d.y)\n",
    "\n",
    "p.figure.layout.xaxis2 = go.layout.XAxis(\n",
    "    overlaying='x', range=[0, len(comparison_xs)], showticklabels=False)\n",
    "\n",
    "for i, (primary_x, primary_y) in enumerate(zip(primary_xs, primary_ys)):\n",
    "    comparison_y = comparison_ys[comparison_xs.index(primary_x)]\n",
    "    diff = comparison_y - primary_y\n",
    "    \n",
    "    if diff > 0:\n",
    "        x = i + bargap/2 + (1-bargap)/4\n",
    "        y_mid = diff/2 + primary_y\n",
    "        p.figure.add_shape(\n",
    "            **p.callout._DEFAULT_DASH_LINE_STYLE,\n",
    "            x0=x,\n",
    "            x1=x,\n",
    "            y0=primary_y,\n",
    "            y1=comparison_y,\n",
    "            xref=\"x2\"\n",
    "        )\n",
    "        p.callout.add_circle_highlight(\n",
    "            x=x,\n",
    "            y=y_mid,\n",
    "            text=f\"{diff}\",\n",
    "            xref=\"x2\",\n",
    "        )\n",
    "    elif diff < 0:\n",
    "        x = i + 1 - bargap/2 - (1-bargap)/4\n",
    "        y_mid = diff/2 + primary_y\n",
    "        p.figure.add_shape(\n",
    "            **p.callout._DEFAULT_DASH_LINE_STYLE,\n",
    "            x0=x,\n",
    "            x1=x,\n",
    "            y0=primary_y,\n",
    "            y1=comparison_y,\n",
    "            xref=\"x2\"\n",
    "        )\n",
    "p.show()\n",
    "\n",
    "    "
   ]
  },
  {
   "cell_type": "code",
   "execution_count": 2,
   "metadata": {},
   "outputs": [
    {
     "data": {
      "application/vnd.plotly.v1+json": {
       "config": {
        "plotlyServerURL": "https://plot.ly"
       },
       "data": [
        {
         "alignmentgroup": "True",
         "hovertemplate": "x=%{x}<br>y=%{y}<extra></extra>",
         "legendgroup": "",
         "marker": {
          "color": "#D73809",
          "pattern": {
           "shape": ""
          }
         },
         "name": "",
         "offsetgroup": "",
         "orientation": "v",
         "showlegend": false,
         "textposition": "auto",
         "type": "bar",
         "x": [
          1,
          2,
          3
         ],
         "xaxis": "x",
         "y": [
          1,
          2,
          3
         ],
         "yaxis": "y"
        }
       ],
       "layout": {
        "annotations": [
         {
          "borderpad": 2,
          "font": {
           "color": "#000000",
           "size": 14
          },
          "showarrow": false,
          "text": "1",
          "x": 2,
          "y": 3
         }
        ],
        "barmode": "relative",
        "height": 540,
        "legend": {
         "tracegroupgap": 0
        },
        "shapes": [
         {
          "fillcolor": "#ffffff",
          "layer": "above",
          "line": {
           "color": "#D73809",
           "width": 2
          },
          "type": "circle",
          "x0": -20,
          "x1": 20,
          "xanchor": 2,
          "xsizemode": "pixel",
          "y0": -20,
          "y1": 20,
          "yanchor": 3,
          "ysizemode": "pixel"
         }
        ],
        "template": {
         "layout": {
          "annotationdefaults": {
           "arrowcolor": "#222222",
           "arrowhead": 0,
           "arrowwidth": 1,
           "bgcolor": "#ffffff",
           "font": {
            "color": "#000000"
           }
          },
          "autotypenumbers": "strict",
          "barcornerradius": 10,
          "coloraxis": {
           "colorbar": {
            "outlinewidth": 1,
            "tickcolor": "rgb(36,36,36)",
            "ticks": "outside"
           }
          },
          "colorscale": {
           "diverging": [
            [
             0,
             "#D73809"
            ],
            [
             0.5,
             "#c2c2c2"
            ],
            [
             1,
             "#940C08"
            ]
           ],
           "sequential": [
            [
             0,
             "#D73809"
            ],
            [
             1,
             "#f98f70"
            ]
           ],
           "sequentialminus": [
            [
             0,
             "#f98f70"
            ],
            [
             1,
             "#D73809"
            ]
           ]
          },
          "colorway": [
           "#D73809",
           "#60748D",
           "#940C08",
           "#CA5E1B",
           "#BD6A5F",
           "#3D180F",
           "#C2322D",
           "#5C3431",
           "#B79F9F",
           "#CFD6D5"
          ],
          "font": {
           "color": "#000000"
          },
          "geo": {
           "lakecolor": "white",
           "landcolor": "white",
           "showlakes": true,
           "showland": true,
           "subunitcolor": "white"
          },
          "hoverlabel": {
           "align": "left"
          },
          "hovermode": "closest",
          "mapbox": {
           "style": "light"
          },
          "margin": {
           "b": 20,
           "l": 20,
           "r": 20,
           "t": 70
          },
          "paper_bgcolor": "#ffffff",
          "plot_bgcolor": "#ffffff",
          "polar": {
           "angularaxis": {
            "gridcolor": "rgb(232,232,232)",
            "linecolor": "rgb(36,36,36)",
            "showgrid": false,
            "showline": true,
            "ticks": "outside"
           },
           "radialaxis": {
            "gridcolor": "rgb(232,232,232)",
            "linecolor": "rgb(36,36,36)",
            "showgrid": false,
            "showline": true,
            "ticks": "outside"
           }
          },
          "scene": {
           "xaxis": {
            "backgroundcolor": "white",
            "gridcolor": "rgb(232,232,232)",
            "gridwidth": 2,
            "linecolor": "rgb(36,36,36)",
            "showbackground": true,
            "showgrid": false,
            "showline": true,
            "ticks": "outside",
            "zeroline": false,
            "zerolinecolor": "rgb(36,36,36)"
           },
           "yaxis": {
            "backgroundcolor": "white",
            "gridcolor": "rgb(232,232,232)",
            "gridwidth": 2,
            "linecolor": "rgb(36,36,36)",
            "showbackground": true,
            "showgrid": false,
            "showline": true,
            "ticks": "outside",
            "zeroline": false,
            "zerolinecolor": "rgb(36,36,36)"
           },
           "zaxis": {
            "backgroundcolor": "white",
            "gridcolor": "rgb(232,232,232)",
            "gridwidth": 2,
            "linecolor": "rgb(36,36,36)",
            "showbackground": true,
            "showgrid": false,
            "showline": true,
            "ticks": "outside",
            "zeroline": false,
            "zerolinecolor": "rgb(36,36,36)"
           }
          },
          "shapedefaults": {
           "fillcolor": "black",
           "line": {
            "width": 0
           }
          },
          "ternary": {
           "aaxis": {
            "gridcolor": "rgb(232,232,232)",
            "linecolor": "rgb(36,36,36)",
            "showgrid": false,
            "showline": true,
            "ticks": "outside"
           },
           "baxis": {
            "gridcolor": "rgb(232,232,232)",
            "linecolor": "rgb(36,36,36)",
            "showgrid": false,
            "showline": true,
            "ticks": "outside"
           },
           "caxis": {
            "gridcolor": "rgb(232,232,232)",
            "linecolor": "rgb(36,36,36)",
            "showgrid": false,
            "showline": true,
            "ticks": "outside"
           }
          },
          "title": {
           "x": 0.05
          },
          "xaxis": {
           "automargin": true,
           "gridcolor": "#ffffff",
           "linecolor": "#000000",
           "showgrid": false,
           "showline": true,
           "ticks": "outside",
           "title": {
            "standoff": 15
           },
           "zeroline": false,
           "zerolinecolor": "#000000"
          },
          "yaxis": {
           "automargin": true,
           "gridcolor": "#ffffff",
           "linecolor": "#000000",
           "showgrid": false,
           "showline": true,
           "ticks": "outside",
           "title": {
            "standoff": 15
           },
           "zeroline": false,
           "zerolinecolor": "#000000"
          }
         }
        },
        "width": 480,
        "xaxis": {
         "anchor": "y",
         "domain": [
          0,
          1
         ],
         "title": {
          "text": "x"
         }
        },
        "yaxis": {
         "anchor": "x",
         "domain": [
          0,
          1
         ],
         "title": {
          "text": "y"
         }
        }
       }
      }
     },
     "metadata": {},
     "output_type": "display_data"
    }
   ],
   "source": [
    "p = Plotter(slide_layout=\"slide_50%\")\n",
    "p.express(\n",
    "    type=\"bar\",\n",
    "    x=[1,2,3],\n",
    "    y=[1,2,3],\n",
    ")\n",
    "p.callout.add_circle_highlight(x=2, y=3, text=\"1\")\n",
    "p.show()"
   ]
  },
  {
   "cell_type": "code",
   "execution_count": 7,
   "metadata": {},
   "outputs": [
    {
     "data": {
      "application/vnd.plotly.v1+json": {
       "config": {
        "plotlyServerURL": "https://plot.ly"
       },
       "data": [
        {
         "alignmentgroup": "True",
         "hovertemplate": "x=%{x}<br>y=%{y}<extra></extra>",
         "legendgroup": "",
         "marker": {
          "color": "#D73809",
          "pattern": {
           "shape": ""
          }
         },
         "name": "",
         "offsetgroup": "",
         "orientation": "v",
         "showlegend": false,
         "textposition": "auto",
         "type": "bar",
         "x": [
          1,
          2,
          3
         ],
         "xaxis": "x",
         "y": [
          1,
          2,
          3
         ],
         "yaxis": "y"
        }
       ],
       "layout": {
        "annotations": [
         {
          "borderpad": 2,
          "font": {
           "color": "#000000",
           "size": 14
          },
          "showarrow": false,
          "text": "200%",
          "x": 2,
          "y": 3.5
         }
        ],
        "barmode": "relative",
        "height": 540,
        "legend": {
         "tracegroupgap": 0
        },
        "shapes": [
         {
          "line": {
           "color": "#222222",
           "width": 2
          },
          "type": "line",
          "x0": 1,
          "x1": 1,
          "y0": 1.1,
          "y1": 3.5
         },
         {
          "line": {
           "color": "#222222",
           "width": 2
          },
          "type": "line",
          "x0": 1,
          "x1": 3,
          "y0": 3.5,
          "y1": 3.5
         },
         {
          "line": {
           "color": "#222222",
           "width": 2
          },
          "type": "line",
          "x0": 3,
          "x1": 3,
          "y0": 3.5,
          "y1": 3.1
         },
         {
          "fillcolor": "#ffffff",
          "layer": "above",
          "line": {
           "color": "#D73809",
           "width": 2
          },
          "type": "circle",
          "x0": -35,
          "x1": 35,
          "xanchor": 2,
          "xsizemode": "pixel",
          "y0": -18,
          "y1": 18,
          "yanchor": 3.5,
          "ysizemode": "pixel"
         }
        ],
        "template": {
         "layout": {
          "annotationdefaults": {
           "arrowcolor": "#222222",
           "arrowhead": 0,
           "arrowwidth": 1,
           "bgcolor": "#ffffff",
           "font": {
            "color": "#000000"
           }
          },
          "autotypenumbers": "strict",
          "barcornerradius": 10,
          "coloraxis": {
           "colorbar": {
            "outlinewidth": 1,
            "tickcolor": "rgb(36,36,36)",
            "ticks": "outside"
           }
          },
          "colorscale": {
           "diverging": [
            [
             0,
             "#D73809"
            ],
            [
             0.5,
             "#c2c2c2"
            ],
            [
             1,
             "#940C08"
            ]
           ],
           "sequential": [
            [
             0,
             "#D73809"
            ],
            [
             1,
             "#f98f70"
            ]
           ],
           "sequentialminus": [
            [
             0,
             "#f98f70"
            ],
            [
             1,
             "#D73809"
            ]
           ]
          },
          "colorway": [
           "#D73809",
           "#60748D",
           "#940C08",
           "#CA5E1B",
           "#BD6A5F",
           "#3D180F",
           "#C2322D",
           "#5C3431",
           "#B79F9F",
           "#CFD6D5"
          ],
          "font": {
           "color": "#000000"
          },
          "geo": {
           "lakecolor": "white",
           "landcolor": "white",
           "showlakes": true,
           "showland": true,
           "subunitcolor": "white"
          },
          "hoverlabel": {
           "align": "left"
          },
          "hovermode": "closest",
          "mapbox": {
           "style": "light"
          },
          "margin": {
           "b": 20,
           "l": 20,
           "r": 20,
           "t": 70
          },
          "paper_bgcolor": "#ffffff",
          "plot_bgcolor": "#ffffff",
          "polar": {
           "angularaxis": {
            "gridcolor": "rgb(232,232,232)",
            "linecolor": "rgb(36,36,36)",
            "showgrid": false,
            "showline": true,
            "ticks": "outside"
           },
           "radialaxis": {
            "gridcolor": "rgb(232,232,232)",
            "linecolor": "rgb(36,36,36)",
            "showgrid": false,
            "showline": true,
            "ticks": "outside"
           }
          },
          "scene": {
           "xaxis": {
            "backgroundcolor": "white",
            "gridcolor": "rgb(232,232,232)",
            "gridwidth": 2,
            "linecolor": "rgb(36,36,36)",
            "showbackground": true,
            "showgrid": false,
            "showline": true,
            "ticks": "outside",
            "zeroline": false,
            "zerolinecolor": "rgb(36,36,36)"
           },
           "yaxis": {
            "backgroundcolor": "white",
            "gridcolor": "rgb(232,232,232)",
            "gridwidth": 2,
            "linecolor": "rgb(36,36,36)",
            "showbackground": true,
            "showgrid": false,
            "showline": true,
            "ticks": "outside",
            "zeroline": false,
            "zerolinecolor": "rgb(36,36,36)"
           },
           "zaxis": {
            "backgroundcolor": "white",
            "gridcolor": "rgb(232,232,232)",
            "gridwidth": 2,
            "linecolor": "rgb(36,36,36)",
            "showbackground": true,
            "showgrid": false,
            "showline": true,
            "ticks": "outside",
            "zeroline": false,
            "zerolinecolor": "rgb(36,36,36)"
           }
          },
          "shapedefaults": {
           "fillcolor": "black",
           "line": {
            "width": 0
           }
          },
          "ternary": {
           "aaxis": {
            "gridcolor": "rgb(232,232,232)",
            "linecolor": "rgb(36,36,36)",
            "showgrid": false,
            "showline": true,
            "ticks": "outside"
           },
           "baxis": {
            "gridcolor": "rgb(232,232,232)",
            "linecolor": "rgb(36,36,36)",
            "showgrid": false,
            "showline": true,
            "ticks": "outside"
           },
           "caxis": {
            "gridcolor": "rgb(232,232,232)",
            "linecolor": "rgb(36,36,36)",
            "showgrid": false,
            "showline": true,
            "ticks": "outside"
           }
          },
          "title": {
           "x": 0.05
          },
          "xaxis": {
           "automargin": true,
           "gridcolor": "#ffffff",
           "linecolor": "#000000",
           "showgrid": false,
           "showline": true,
           "ticks": "outside",
           "title": {
            "standoff": 15
           },
           "zeroline": false,
           "zerolinecolor": "#000000"
          },
          "yaxis": {
           "automargin": true,
           "gridcolor": "#ffffff",
           "linecolor": "#000000",
           "showgrid": false,
           "showline": true,
           "ticks": "outside",
           "title": {
            "standoff": 15
           },
           "zeroline": false,
           "zerolinecolor": "#000000"
          }
         }
        },
        "width": 480,
        "xaxis": {
         "anchor": "y",
         "domain": [
          0,
          1
         ],
         "title": {
          "text": "x"
         }
        },
        "yaxis": {
         "anchor": "x",
         "domain": [
          0,
          1
         ],
         "title": {
          "text": "y"
         }
        }
       }
      }
     },
     "metadata": {},
     "output_type": "display_data"
    }
   ],
   "source": [
    "p = Plotter(slide_layout=\"slide_50%\")\n",
    "p.express(\n",
    "    type=\"bar\",\n",
    "    x=[1,2,3],\n",
    "    y=[1,2,3],\n",
    ")\n",
    "p.callout.add_square_growth_line(x0=1, x1=3, y0=1.1, y1=3.1, y_top=3.5, circle_x_pixel_width=35, circle_y_pixel_width=18, text=\"200%\")\n",
    "p.show()"
   ]
  },
  {
   "cell_type": "code",
   "execution_count": 9,
   "metadata": {},
   "outputs": [
    {
     "data": {
      "application/vnd.plotly.v1+json": {
       "config": {
        "plotlyServerURL": "https://plot.ly"
       },
       "data": [
        {
         "alignmentgroup": "True",
         "hovertemplate": "x=%{x}<br>y=%{y}<extra></extra>",
         "legendgroup": "",
         "marker": {
          "color": "#D73809",
          "pattern": {
           "shape": ""
          }
         },
         "name": "",
         "offsetgroup": "",
         "orientation": "v",
         "showlegend": false,
         "textposition": "auto",
         "type": "bar",
         "x": [
          1,
          2,
          3
         ],
         "xaxis": "x",
         "y": [
          1,
          2,
          3
         ],
         "yaxis": "y"
        }
       ],
       "layout": {
        "annotations": [
         {
          "arrowcolor": "#222222",
          "arrowhead": 2,
          "arrowsize": 1,
          "arrowwidth": 2,
          "ax": 3.7,
          "axref": "x",
          "ay": 1,
          "ayref": "y",
          "showarrow": true,
          "x": 3.7,
          "xref": "x",
          "y": 3,
          "yref": "y"
         },
         {
          "borderpad": 2,
          "font": {
           "color": "#000000",
           "size": 14
          },
          "showarrow": false,
          "text": "200%",
          "x": 3.7,
          "y": 2
         }
        ],
        "barmode": "relative",
        "height": 540,
        "legend": {
         "tracegroupgap": 0
        },
        "shapes": [
         {
          "line": {
           "color": "#222222",
           "dash": "dash",
           "width": 2
          },
          "opacity": 0.7,
          "type": "line",
          "x0": 1,
          "x1": 3.7,
          "y0": 1,
          "y1": 1
         },
         {
          "line": {
           "color": "#222222",
           "dash": "dash",
           "width": 2
          },
          "opacity": 0.7,
          "type": "line",
          "x0": 3,
          "x1": 3.7,
          "y0": 3,
          "y1": 3
         },
         {
          "fillcolor": "#ffffff",
          "layer": "above",
          "line": {
           "color": "#D73809",
           "width": 2
          },
          "type": "circle",
          "x0": -35,
          "x1": 35,
          "xanchor": 3.7,
          "xsizemode": "pixel",
          "y0": -18,
          "y1": 18,
          "yanchor": 2,
          "ysizemode": "pixel"
         }
        ],
        "template": {
         "layout": {
          "annotationdefaults": {
           "arrowcolor": "#222222",
           "arrowhead": 0,
           "arrowwidth": 1,
           "bgcolor": "#ffffff",
           "font": {
            "color": "#000000"
           }
          },
          "autotypenumbers": "strict",
          "barcornerradius": 10,
          "coloraxis": {
           "colorbar": {
            "outlinewidth": 1,
            "tickcolor": "rgb(36,36,36)",
            "ticks": "outside"
           }
          },
          "colorscale": {
           "diverging": [
            [
             0,
             "#D73809"
            ],
            [
             0.5,
             "#c2c2c2"
            ],
            [
             1,
             "#940C08"
            ]
           ],
           "sequential": [
            [
             0,
             "#D73809"
            ],
            [
             1,
             "#f98f70"
            ]
           ],
           "sequentialminus": [
            [
             0,
             "#f98f70"
            ],
            [
             1,
             "#D73809"
            ]
           ]
          },
          "colorway": [
           "#D73809",
           "#60748D",
           "#940C08",
           "#CA5E1B",
           "#BD6A5F",
           "#3D180F",
           "#C2322D",
           "#5C3431",
           "#B79F9F",
           "#CFD6D5"
          ],
          "font": {
           "color": "#000000"
          },
          "geo": {
           "lakecolor": "white",
           "landcolor": "white",
           "showlakes": true,
           "showland": true,
           "subunitcolor": "white"
          },
          "hoverlabel": {
           "align": "left"
          },
          "hovermode": "closest",
          "mapbox": {
           "style": "light"
          },
          "margin": {
           "b": 20,
           "l": 20,
           "r": 20,
           "t": 70
          },
          "paper_bgcolor": "#ffffff",
          "plot_bgcolor": "#ffffff",
          "polar": {
           "angularaxis": {
            "gridcolor": "rgb(232,232,232)",
            "linecolor": "rgb(36,36,36)",
            "showgrid": false,
            "showline": true,
            "ticks": "outside"
           },
           "radialaxis": {
            "gridcolor": "rgb(232,232,232)",
            "linecolor": "rgb(36,36,36)",
            "showgrid": false,
            "showline": true,
            "ticks": "outside"
           }
          },
          "scene": {
           "xaxis": {
            "backgroundcolor": "white",
            "gridcolor": "rgb(232,232,232)",
            "gridwidth": 2,
            "linecolor": "rgb(36,36,36)",
            "showbackground": true,
            "showgrid": false,
            "showline": true,
            "ticks": "outside",
            "zeroline": false,
            "zerolinecolor": "rgb(36,36,36)"
           },
           "yaxis": {
            "backgroundcolor": "white",
            "gridcolor": "rgb(232,232,232)",
            "gridwidth": 2,
            "linecolor": "rgb(36,36,36)",
            "showbackground": true,
            "showgrid": false,
            "showline": true,
            "ticks": "outside",
            "zeroline": false,
            "zerolinecolor": "rgb(36,36,36)"
           },
           "zaxis": {
            "backgroundcolor": "white",
            "gridcolor": "rgb(232,232,232)",
            "gridwidth": 2,
            "linecolor": "rgb(36,36,36)",
            "showbackground": true,
            "showgrid": false,
            "showline": true,
            "ticks": "outside",
            "zeroline": false,
            "zerolinecolor": "rgb(36,36,36)"
           }
          },
          "shapedefaults": {
           "fillcolor": "black",
           "line": {
            "width": 0
           }
          },
          "ternary": {
           "aaxis": {
            "gridcolor": "rgb(232,232,232)",
            "linecolor": "rgb(36,36,36)",
            "showgrid": false,
            "showline": true,
            "ticks": "outside"
           },
           "baxis": {
            "gridcolor": "rgb(232,232,232)",
            "linecolor": "rgb(36,36,36)",
            "showgrid": false,
            "showline": true,
            "ticks": "outside"
           },
           "caxis": {
            "gridcolor": "rgb(232,232,232)",
            "linecolor": "rgb(36,36,36)",
            "showgrid": false,
            "showline": true,
            "ticks": "outside"
           }
          },
          "title": {
           "x": 0.05
          },
          "xaxis": {
           "automargin": true,
           "gridcolor": "#ffffff",
           "linecolor": "#000000",
           "showgrid": false,
           "showline": true,
           "ticks": "outside",
           "title": {
            "standoff": 15
           },
           "zeroline": false,
           "zerolinecolor": "#000000"
          },
          "yaxis": {
           "automargin": true,
           "gridcolor": "#ffffff",
           "linecolor": "#000000",
           "showgrid": false,
           "showline": true,
           "ticks": "outside",
           "title": {
            "standoff": 15
           },
           "zeroline": false,
           "zerolinecolor": "#000000"
          }
         }
        },
        "width": 480,
        "xaxis": {
         "anchor": "y",
         "domain": [
          0,
          1
         ],
         "title": {
          "text": "x"
         }
        },
        "yaxis": {
         "anchor": "x",
         "domain": [
          0,
          1
         ],
         "title": {
          "text": "y"
         }
        }
       }
      }
     },
     "metadata": {},
     "output_type": "display_data"
    }
   ],
   "source": [
    "p = Plotter(slide_layout=\"slide_50%\")\n",
    "p.express(\n",
    "    type=\"bar\",\n",
    "    x=[1,2,3],\n",
    "    y=[1,2,3],\n",
    ")\n",
    "p.callout.add_dash_growth_lines(x0=1, x1=3, y0=1, y1=3, x_end=3.7, text=\"200%\", circle_x_pixel_width=35, circle_y_pixel_width=18)\n",
    "fig = p.figure\n",
    "fig.show()"
   ]
  },
  {
   "cell_type": "code",
   "execution_count": null,
   "metadata": {},
   "outputs": [],
   "source": []
  }
 ],
 "metadata": {
  "kernelspec": {
   "display_name": "venv",
   "language": "python",
   "name": "python3"
  },
  "language_info": {
   "codemirror_mode": {
    "name": "ipython",
    "version": 3
   },
   "file_extension": ".py",
   "mimetype": "text/x-python",
   "name": "python",
   "nbconvert_exporter": "python",
   "pygments_lexer": "ipython3",
   "version": "3.10.10"
  }
 },
 "nbformat": 4,
 "nbformat_minor": 2
}
