{
 "cells": [
  {
   "cell_type": "code",
   "execution_count": 1,
   "metadata": {},
   "outputs": [],
   "source": [
    "from plotly_presentation import Plotter"
   ]
  },
  {
   "cell_type": "code",
   "execution_count": 2,
   "metadata": {},
   "outputs": [
    {
     "data": {
      "application/vnd.plotly.v1+json": {
       "config": {
        "plotlyServerURL": "https://plot.ly"
       },
       "data": [
        {
         "alignmentgroup": "True",
         "hovertemplate": "x=%{x}<br>y=%{y}<extra></extra>",
         "legendgroup": "",
         "marker": {
          "color": "#D73809",
          "pattern": {
           "shape": ""
          }
         },
         "name": "",
         "offsetgroup": "",
         "orientation": "v",
         "showlegend": false,
         "textposition": "auto",
         "type": "bar",
         "x": [
          1,
          2,
          3
         ],
         "xaxis": "x",
         "y": [
          1,
          2,
          3
         ],
         "yaxis": "y"
        }
       ],
       "layout": {
        "annotations": [
         {
          "borderpad": 2,
          "font": {
           "color": "#000000",
           "size": 14
          },
          "showarrow": false,
          "text": "1",
          "x": 2,
          "y": 3
         }
        ],
        "barmode": "relative",
        "height": 540,
        "legend": {
         "tracegroupgap": 0
        },
        "shapes": [
         {
          "fillcolor": "#ffffff",
          "layer": "above",
          "line": {
           "color": "#D73809",
           "width": 2
          },
          "type": "circle",
          "x0": -20,
          "x1": 20,
          "xanchor": 2,
          "xsizemode": "pixel",
          "y0": -20,
          "y1": 20,
          "yanchor": 3,
          "ysizemode": "pixel"
         }
        ],
        "template": {
         "layout": {
          "annotationdefaults": {
           "arrowcolor": "#222222",
           "arrowhead": 0,
           "arrowwidth": 1,
           "bgcolor": "#ffffff",
           "font": {
            "color": "#000000"
           }
          },
          "autotypenumbers": "strict",
          "barcornerradius": 10,
          "coloraxis": {
           "colorbar": {
            "outlinewidth": 1,
            "tickcolor": "rgb(36,36,36)",
            "ticks": "outside"
           }
          },
          "colorscale": {
           "diverging": [
            [
             0,
             "#D73809"
            ],
            [
             0.5,
             "#c2c2c2"
            ],
            [
             1,
             "#940C08"
            ]
           ],
           "sequential": [
            [
             0,
             "#D73809"
            ],
            [
             1,
             "#f98f70"
            ]
           ],
           "sequentialminus": [
            [
             0,
             "#f98f70"
            ],
            [
             1,
             "#D73809"
            ]
           ]
          },
          "colorway": [
           "#D73809",
           "#60748D",
           "#940C08",
           "#CA5E1B",
           "#BD6A5F",
           "#3D180F",
           "#C2322D",
           "#5C3431",
           "#B79F9F",
           "#CFD6D5"
          ],
          "font": {
           "color": "#000000"
          },
          "geo": {
           "lakecolor": "white",
           "landcolor": "white",
           "showlakes": true,
           "showland": true,
           "subunitcolor": "white"
          },
          "hoverlabel": {
           "align": "left"
          },
          "hovermode": "closest",
          "mapbox": {
           "style": "light"
          },
          "margin": {
           "b": 20,
           "l": 20,
           "r": 20,
           "t": 70
          },
          "paper_bgcolor": "#ffffff",
          "plot_bgcolor": "#ffffff",
          "polar": {
           "angularaxis": {
            "gridcolor": "rgb(232,232,232)",
            "linecolor": "rgb(36,36,36)",
            "showgrid": false,
            "showline": true,
            "ticks": "outside"
           },
           "radialaxis": {
            "gridcolor": "rgb(232,232,232)",
            "linecolor": "rgb(36,36,36)",
            "showgrid": false,
            "showline": true,
            "ticks": "outside"
           }
          },
          "scene": {
           "xaxis": {
            "backgroundcolor": "white",
            "gridcolor": "rgb(232,232,232)",
            "gridwidth": 2,
            "linecolor": "rgb(36,36,36)",
            "showbackground": true,
            "showgrid": false,
            "showline": true,
            "ticks": "outside",
            "zeroline": false,
            "zerolinecolor": "rgb(36,36,36)"
           },
           "yaxis": {
            "backgroundcolor": "white",
            "gridcolor": "rgb(232,232,232)",
            "gridwidth": 2,
            "linecolor": "rgb(36,36,36)",
            "showbackground": true,
            "showgrid": false,
            "showline": true,
            "ticks": "outside",
            "zeroline": false,
            "zerolinecolor": "rgb(36,36,36)"
           },
           "zaxis": {
            "backgroundcolor": "white",
            "gridcolor": "rgb(232,232,232)",
            "gridwidth": 2,
            "linecolor": "rgb(36,36,36)",
            "showbackground": true,
            "showgrid": false,
            "showline": true,
            "ticks": "outside",
            "zeroline": false,
            "zerolinecolor": "rgb(36,36,36)"
           }
          },
          "shapedefaults": {
           "fillcolor": "black",
           "line": {
            "width": 0
           }
          },
          "ternary": {
           "aaxis": {
            "gridcolor": "rgb(232,232,232)",
            "linecolor": "rgb(36,36,36)",
            "showgrid": false,
            "showline": true,
            "ticks": "outside"
           },
           "baxis": {
            "gridcolor": "rgb(232,232,232)",
            "linecolor": "rgb(36,36,36)",
            "showgrid": false,
            "showline": true,
            "ticks": "outside"
           },
           "caxis": {
            "gridcolor": "rgb(232,232,232)",
            "linecolor": "rgb(36,36,36)",
            "showgrid": false,
            "showline": true,
            "ticks": "outside"
           }
          },
          "title": {
           "x": 0.05
          },
          "xaxis": {
           "automargin": true,
           "gridcolor": "#ffffff",
           "linecolor": "#000000",
           "showgrid": false,
           "showline": true,
           "ticks": "outside",
           "title": {
            "standoff": 15
           },
           "zeroline": false,
           "zerolinecolor": "#000000"
          },
          "yaxis": {
           "automargin": true,
           "gridcolor": "#ffffff",
           "linecolor": "#000000",
           "showgrid": false,
           "showline": true,
           "ticks": "outside",
           "title": {
            "standoff": 15
           },
           "zeroline": false,
           "zerolinecolor": "#000000"
          }
         }
        },
        "width": 480,
        "xaxis": {
         "anchor": "y",
         "domain": [
          0,
          1
         ],
         "title": {
          "text": "x"
         }
        },
        "yaxis": {
         "anchor": "x",
         "domain": [
          0,
          1
         ],
         "title": {
          "text": "y"
         }
        }
       }
      }
     },
     "metadata": {},
     "output_type": "display_data"
    }
   ],
   "source": [
    "p = Plotter(slide_layout=\"slide_50%\")\n",
    "p.express(\n",
    "    type=\"bar\",\n",
    "    x=[1,2,3],\n",
    "    y=[1,2,3],\n",
    ")\n",
    "p.callout.add_circle_highlight(x=2, y=3, text=\"1\")\n",
    "p.show()"
   ]
  },
  {
   "cell_type": "code",
   "execution_count": 3,
   "metadata": {},
   "outputs": [
    {
     "data": {
      "application/vnd.plotly.v1+json": {
       "config": {
        "plotlyServerURL": "https://plot.ly"
       },
       "data": [
        {
         "alignmentgroup": "True",
         "hovertemplate": "x=%{x}<br>y=%{y}<extra></extra>",
         "legendgroup": "",
         "marker": {
          "color": "#D73809",
          "pattern": {
           "shape": ""
          }
         },
         "name": "",
         "offsetgroup": "",
         "orientation": "v",
         "showlegend": false,
         "textposition": "auto",
         "type": "bar",
         "x": [
          1,
          2,
          3
         ],
         "xaxis": "x",
         "y": [
          1,
          2,
          3
         ],
         "yaxis": "y"
        }
       ],
       "layout": {
        "annotations": [
         {
          "borderpad": 2,
          "font": {
           "color": "#000000",
           "size": 14
          },
          "showarrow": false,
          "text": "+20%",
          "x": 2,
          "y": 3.5
         }
        ],
        "barmode": "relative",
        "height": 540,
        "legend": {
         "tracegroupgap": 0
        },
        "shapes": [
         {
          "line": {
           "color": "#222222",
           "width": 2
          },
          "type": "line",
          "x0": 1,
          "x1": 1,
          "y0": 1.1,
          "y1": 3.5
         },
         {
          "line": {
           "color": "#222222",
           "width": 2
          },
          "type": "line",
          "x0": 1,
          "x1": 3,
          "y0": 3.5,
          "y1": 3.5
         },
         {
          "line": {
           "color": "#222222",
           "width": 2
          },
          "type": "line",
          "x0": 3,
          "x1": 3,
          "y0": 3.5,
          "y1": 3.1
         },
         {
          "fillcolor": "#ffffff",
          "layer": "above",
          "line": {
           "color": "#D73809",
           "width": 2
          },
          "type": "circle",
          "x0": -32,
          "x1": 32,
          "xanchor": 2,
          "xsizemode": "pixel",
          "y0": -18,
          "y1": 18,
          "yanchor": 3.5,
          "ysizemode": "pixel"
         }
        ],
        "template": {
         "layout": {
          "annotationdefaults": {
           "arrowcolor": "#222222",
           "arrowhead": 0,
           "arrowwidth": 1,
           "bgcolor": "#ffffff",
           "font": {
            "color": "#000000"
           }
          },
          "autotypenumbers": "strict",
          "barcornerradius": 10,
          "coloraxis": {
           "colorbar": {
            "outlinewidth": 1,
            "tickcolor": "rgb(36,36,36)",
            "ticks": "outside"
           }
          },
          "colorscale": {
           "diverging": [
            [
             0,
             "#D73809"
            ],
            [
             0.5,
             "#c2c2c2"
            ],
            [
             1,
             "#940C08"
            ]
           ],
           "sequential": [
            [
             0,
             "#D73809"
            ],
            [
             1,
             "#f98f70"
            ]
           ],
           "sequentialminus": [
            [
             0,
             "#f98f70"
            ],
            [
             1,
             "#D73809"
            ]
           ]
          },
          "colorway": [
           "#D73809",
           "#60748D",
           "#940C08",
           "#CA5E1B",
           "#BD6A5F",
           "#3D180F",
           "#C2322D",
           "#5C3431",
           "#B79F9F",
           "#CFD6D5"
          ],
          "font": {
           "color": "#000000"
          },
          "geo": {
           "lakecolor": "white",
           "landcolor": "white",
           "showlakes": true,
           "showland": true,
           "subunitcolor": "white"
          },
          "hoverlabel": {
           "align": "left"
          },
          "hovermode": "closest",
          "mapbox": {
           "style": "light"
          },
          "margin": {
           "b": 20,
           "l": 20,
           "r": 20,
           "t": 70
          },
          "paper_bgcolor": "#ffffff",
          "plot_bgcolor": "#ffffff",
          "polar": {
           "angularaxis": {
            "gridcolor": "rgb(232,232,232)",
            "linecolor": "rgb(36,36,36)",
            "showgrid": false,
            "showline": true,
            "ticks": "outside"
           },
           "radialaxis": {
            "gridcolor": "rgb(232,232,232)",
            "linecolor": "rgb(36,36,36)",
            "showgrid": false,
            "showline": true,
            "ticks": "outside"
           }
          },
          "scene": {
           "xaxis": {
            "backgroundcolor": "white",
            "gridcolor": "rgb(232,232,232)",
            "gridwidth": 2,
            "linecolor": "rgb(36,36,36)",
            "showbackground": true,
            "showgrid": false,
            "showline": true,
            "ticks": "outside",
            "zeroline": false,
            "zerolinecolor": "rgb(36,36,36)"
           },
           "yaxis": {
            "backgroundcolor": "white",
            "gridcolor": "rgb(232,232,232)",
            "gridwidth": 2,
            "linecolor": "rgb(36,36,36)",
            "showbackground": true,
            "showgrid": false,
            "showline": true,
            "ticks": "outside",
            "zeroline": false,
            "zerolinecolor": "rgb(36,36,36)"
           },
           "zaxis": {
            "backgroundcolor": "white",
            "gridcolor": "rgb(232,232,232)",
            "gridwidth": 2,
            "linecolor": "rgb(36,36,36)",
            "showbackground": true,
            "showgrid": false,
            "showline": true,
            "ticks": "outside",
            "zeroline": false,
            "zerolinecolor": "rgb(36,36,36)"
           }
          },
          "shapedefaults": {
           "fillcolor": "black",
           "line": {
            "width": 0
           }
          },
          "ternary": {
           "aaxis": {
            "gridcolor": "rgb(232,232,232)",
            "linecolor": "rgb(36,36,36)",
            "showgrid": false,
            "showline": true,
            "ticks": "outside"
           },
           "baxis": {
            "gridcolor": "rgb(232,232,232)",
            "linecolor": "rgb(36,36,36)",
            "showgrid": false,
            "showline": true,
            "ticks": "outside"
           },
           "caxis": {
            "gridcolor": "rgb(232,232,232)",
            "linecolor": "rgb(36,36,36)",
            "showgrid": false,
            "showline": true,
            "ticks": "outside"
           }
          },
          "title": {
           "x": 0.05
          },
          "xaxis": {
           "automargin": true,
           "gridcolor": "#ffffff",
           "linecolor": "#000000",
           "showgrid": false,
           "showline": true,
           "ticks": "outside",
           "title": {
            "standoff": 15
           },
           "zeroline": false,
           "zerolinecolor": "#000000"
          },
          "yaxis": {
           "automargin": true,
           "gridcolor": "#ffffff",
           "linecolor": "#000000",
           "showgrid": false,
           "showline": true,
           "ticks": "outside",
           "title": {
            "standoff": 15
           },
           "zeroline": false,
           "zerolinecolor": "#000000"
          }
         }
        },
        "width": 480,
        "xaxis": {
         "anchor": "y",
         "domain": [
          0,
          1
         ],
         "title": {
          "text": "x"
         }
        },
        "yaxis": {
         "anchor": "x",
         "domain": [
          0,
          1
         ],
         "title": {
          "text": "y"
         }
        }
       }
      }
     },
     "metadata": {},
     "output_type": "display_data"
    }
   ],
   "source": [
    "p = Plotter(slide_layout=\"slide_50%\")\n",
    "p.express(\n",
    "    type=\"bar\",\n",
    "    x=[1,2,3],\n",
    "    y=[1,2,3],\n",
    ")\n",
    "p.callout.add_square_growth_line(\n",
    "    x0=1, x1=3, y0=1.1, y1=3.1, y_top=3.5, \n",
    "    # circle_x_pixel_width=35, \n",
    "    # circle_y_pixel_width=18, \n",
    "    text=\"+20%\"\n",
    "    )\n",
    "p.show()"
   ]
  },
  {
   "cell_type": "code",
   "execution_count": 5,
   "metadata": {},
   "outputs": [
    {
     "data": {
      "application/vnd.plotly.v1+json": {
       "config": {
        "plotlyServerURL": "https://plot.ly"
       },
       "data": [
        {
         "alignmentgroup": "True",
         "hovertemplate": "x=%{x}<br>y=%{y}<extra></extra>",
         "legendgroup": "",
         "marker": {
          "color": "#D73809",
          "pattern": {
           "shape": ""
          }
         },
         "name": "",
         "offsetgroup": "",
         "orientation": "v",
         "showlegend": false,
         "textposition": "auto",
         "type": "bar",
         "x": [
          1,
          2,
          3
         ],
         "xaxis": "x",
         "y": [
          1,
          2,
          3
         ],
         "yaxis": "y"
        }
       ],
       "layout": {
        "annotations": [
         {
          "arrowcolor": "#222222",
          "arrowhead": 2,
          "arrowsize": 1,
          "arrowwidth": 2,
          "ax": 3.7,
          "axref": "x",
          "ay": 1,
          "ayref": "y",
          "showarrow": true,
          "x": 3.7,
          "xref": "x",
          "y": 3,
          "yref": "y"
         },
         {
          "borderpad": 2,
          "font": {
           "color": "#000000",
           "size": 14
          },
          "showarrow": false,
          "text": "+20%",
          "x": 3.7,
          "y": 2
         }
        ],
        "barmode": "relative",
        "height": 540,
        "legend": {
         "tracegroupgap": 0
        },
        "shapes": [
         {
          "line": {
           "color": "#222222",
           "dash": "dash",
           "width": 2
          },
          "opacity": 0.7,
          "type": "line",
          "x0": 1,
          "x1": 3.7,
          "y0": 1,
          "y1": 1
         },
         {
          "line": {
           "color": "#222222",
           "dash": "dash",
           "width": 2
          },
          "opacity": 0.7,
          "type": "line",
          "x0": 3,
          "x1": 3.7,
          "y0": 3,
          "y1": 3
         },
         {
          "fillcolor": "#ffffff",
          "layer": "above",
          "line": {
           "color": "#D73809",
           "width": 2
          },
          "type": "circle",
          "x0": -32,
          "x1": 32,
          "xanchor": 3.7,
          "xsizemode": "pixel",
          "y0": -18,
          "y1": 18,
          "yanchor": 2,
          "ysizemode": "pixel"
         }
        ],
        "template": {
         "layout": {
          "annotationdefaults": {
           "arrowcolor": "#222222",
           "arrowhead": 0,
           "arrowwidth": 1,
           "bgcolor": "#ffffff",
           "font": {
            "color": "#000000"
           }
          },
          "autotypenumbers": "strict",
          "barcornerradius": 10,
          "coloraxis": {
           "colorbar": {
            "outlinewidth": 1,
            "tickcolor": "rgb(36,36,36)",
            "ticks": "outside"
           }
          },
          "colorscale": {
           "diverging": [
            [
             0,
             "#D73809"
            ],
            [
             0.5,
             "#c2c2c2"
            ],
            [
             1,
             "#940C08"
            ]
           ],
           "sequential": [
            [
             0,
             "#D73809"
            ],
            [
             1,
             "#f98f70"
            ]
           ],
           "sequentialminus": [
            [
             0,
             "#f98f70"
            ],
            [
             1,
             "#D73809"
            ]
           ]
          },
          "colorway": [
           "#D73809",
           "#60748D",
           "#940C08",
           "#CA5E1B",
           "#BD6A5F",
           "#3D180F",
           "#C2322D",
           "#5C3431",
           "#B79F9F",
           "#CFD6D5"
          ],
          "font": {
           "color": "#000000"
          },
          "geo": {
           "lakecolor": "white",
           "landcolor": "white",
           "showlakes": true,
           "showland": true,
           "subunitcolor": "white"
          },
          "hoverlabel": {
           "align": "left"
          },
          "hovermode": "closest",
          "mapbox": {
           "style": "light"
          },
          "margin": {
           "b": 20,
           "l": 20,
           "r": 20,
           "t": 70
          },
          "paper_bgcolor": "#ffffff",
          "plot_bgcolor": "#ffffff",
          "polar": {
           "angularaxis": {
            "gridcolor": "rgb(232,232,232)",
            "linecolor": "rgb(36,36,36)",
            "showgrid": false,
            "showline": true,
            "ticks": "outside"
           },
           "radialaxis": {
            "gridcolor": "rgb(232,232,232)",
            "linecolor": "rgb(36,36,36)",
            "showgrid": false,
            "showline": true,
            "ticks": "outside"
           }
          },
          "scene": {
           "xaxis": {
            "backgroundcolor": "white",
            "gridcolor": "rgb(232,232,232)",
            "gridwidth": 2,
            "linecolor": "rgb(36,36,36)",
            "showbackground": true,
            "showgrid": false,
            "showline": true,
            "ticks": "outside",
            "zeroline": false,
            "zerolinecolor": "rgb(36,36,36)"
           },
           "yaxis": {
            "backgroundcolor": "white",
            "gridcolor": "rgb(232,232,232)",
            "gridwidth": 2,
            "linecolor": "rgb(36,36,36)",
            "showbackground": true,
            "showgrid": false,
            "showline": true,
            "ticks": "outside",
            "zeroline": false,
            "zerolinecolor": "rgb(36,36,36)"
           },
           "zaxis": {
            "backgroundcolor": "white",
            "gridcolor": "rgb(232,232,232)",
            "gridwidth": 2,
            "linecolor": "rgb(36,36,36)",
            "showbackground": true,
            "showgrid": false,
            "showline": true,
            "ticks": "outside",
            "zeroline": false,
            "zerolinecolor": "rgb(36,36,36)"
           }
          },
          "shapedefaults": {
           "fillcolor": "black",
           "line": {
            "width": 0
           }
          },
          "ternary": {
           "aaxis": {
            "gridcolor": "rgb(232,232,232)",
            "linecolor": "rgb(36,36,36)",
            "showgrid": false,
            "showline": true,
            "ticks": "outside"
           },
           "baxis": {
            "gridcolor": "rgb(232,232,232)",
            "linecolor": "rgb(36,36,36)",
            "showgrid": false,
            "showline": true,
            "ticks": "outside"
           },
           "caxis": {
            "gridcolor": "rgb(232,232,232)",
            "linecolor": "rgb(36,36,36)",
            "showgrid": false,
            "showline": true,
            "ticks": "outside"
           }
          },
          "title": {
           "x": 0.05
          },
          "xaxis": {
           "automargin": true,
           "gridcolor": "#ffffff",
           "linecolor": "#000000",
           "showgrid": false,
           "showline": true,
           "ticks": "outside",
           "title": {
            "standoff": 15
           },
           "zeroline": false,
           "zerolinecolor": "#000000"
          },
          "yaxis": {
           "automargin": true,
           "gridcolor": "#ffffff",
           "linecolor": "#000000",
           "showgrid": false,
           "showline": true,
           "ticks": "outside",
           "title": {
            "standoff": 15
           },
           "zeroline": false,
           "zerolinecolor": "#000000"
          }
         }
        },
        "width": 480,
        "xaxis": {
         "anchor": "y",
         "domain": [
          0,
          1
         ],
         "title": {
          "text": "x"
         }
        },
        "yaxis": {
         "anchor": "x",
         "domain": [
          0,
          1
         ],
         "title": {
          "text": "y"
         }
        }
       }
      }
     },
     "metadata": {},
     "output_type": "display_data"
    }
   ],
   "source": [
    "p = Plotter(slide_layout=\"slide_50%\")\n",
    "p.express(\n",
    "    type=\"bar\",\n",
    "    x=[1,2,3],\n",
    "    y=[1,2,3],\n",
    ")\n",
    "p.callout.add_dash_growth_lines(x0=1, x1=3, y0=1, y1=3, x_end=3.7, text=\"+20%\")#, circle_x_pixel_width=35, circle_y_pixel_width=18)\n",
    "fig = p.figure\n",
    "fig.show()"
   ]
  },
  {
   "cell_type": "code",
   "execution_count": null,
   "metadata": {},
   "outputs": [],
   "source": []
  }
 ],
 "metadata": {
  "kernelspec": {
   "display_name": "venv",
   "language": "python",
   "name": "python3"
  },
  "language_info": {
   "codemirror_mode": {
    "name": "ipython",
    "version": 3
   },
   "file_extension": ".py",
   "mimetype": "text/x-python",
   "name": "python",
   "nbconvert_exporter": "python",
   "pygments_lexer": "ipython3",
   "version": "3.11.4"
  }
 },
 "nbformat": 4,
 "nbformat_minor": 2
}
