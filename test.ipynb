{
 "cells": [
  {
   "cell_type": "code",
   "execution_count": 1,
   "metadata": {},
   "outputs": [
    {
     "name": "stdout",
     "output_type": "stream",
     "text": [
      "Trying defaults\n",
      "/Users/mathiasnorskov/Documents/Projekter/plotly_presentation/plotly_presentation/_core/_defaults/colors_config.yaml\n",
      "{'primary_colors': {'primary': '#D73809', 'secondary': '#60748D', 'tertiary': '#940C08'}, 'light_primary_colors': {'primary': '#f98f70', 'secondary': '#a3b0c0', 'tertiary': '#f87f7c'}, 'color_list': ['#D73809', '#60748D', '#940C08', '#CA5E1B', '#BD6A5F', '#3D180F', '#C2322D', '#5C3431', '#B79F9F', '#CFD6D5'], 'divergent_colors': {'start': '#D73809', 'mid': '#c2c2c2', 'end': '#940C08'}, 'sequential_colors': {'start': '#D73809', 'end': '#f98f70'}, 'callout_colors': {'line_color': '#222', 'text_color': '#000', 'text_bg_color': '#fff'}, 'plot_colors': {'line_color': '#000', 'text_color': '#000', 'bg_color': '#fff'}}\n"
     ]
    }
   ],
   "source": [
    "from plotly_presentation import Plotter"
   ]
  },
  {
   "cell_type": "code",
   "execution_count": 2,
   "metadata": {},
   "outputs": [
    {
     "data": {
      "application/vnd.plotly.v1+json": {
       "config": {
        "plotlyServerURL": "https://plot.ly"
       },
       "data": [
        {
         "alignmentgroup": "True",
         "hovertemplate": "x=%{x}<br>y=%{y}<br>color=%{marker.color}<extra></extra>",
         "legendgroup": "",
         "marker": {
          "color": [
           1,
           2,
           3
          ],
          "coloraxis": "coloraxis",
          "pattern": {
           "shape": ""
          }
         },
         "name": "",
         "offsetgroup": "",
         "orientation": "v",
         "showlegend": false,
         "textposition": "auto",
         "type": "bar",
         "x": [
          1,
          2,
          3
         ],
         "xaxis": "x",
         "y": [
          1,
          2,
          3
         ],
         "yaxis": "y"
        }
       ],
       "layout": {
        "barmode": "relative",
        "coloraxis": {
         "colorbar": {
          "title": {
           "text": "color"
          }
         },
         "colorscale": [
          [
           0,
           "#D73809"
          ],
          [
           1,
           "#f98f70"
          ]
         ]
        },
        "height": 540,
        "legend": {
         "tracegroupgap": 0
        },
        "margin": {
         "t": 60
        },
        "template": {
         "layout": {
          "annotationdefaults": {
           "arrowcolor": "#222",
           "arrowhead": 0,
           "arrowwidth": 1,
           "bgcolor": "#fff",
           "font": {
            "color": "#000"
           }
          },
          "autotypenumbers": "strict",
          "barcornerradius": 10,
          "coloraxis": {
           "colorbar": {
            "outlinewidth": 1,
            "tickcolor": "rgb(36,36,36)",
            "ticks": "outside"
           }
          },
          "colorscale": {
           "diverging": [
            [
             0,
             "#D73809"
            ],
            [
             0.5,
             "#c2c2c2"
            ],
            [
             1,
             "#940C08"
            ]
           ],
           "sequential": [
            [
             0,
             "#D73809"
            ],
            [
             1,
             "#f98f70"
            ]
           ],
           "sequentialminus": [
            [
             0,
             "#f98f70"
            ],
            [
             1,
             "#D73809"
            ]
           ]
          },
          "colorway": [
           "#D73809",
           "#60748D",
           "#940C08",
           "#CA5E1B",
           "#BD6A5F",
           "#3D180F",
           "#C2322D",
           "#5C3431",
           "#B79F9F",
           "#CFD6D5"
          ],
          "font": {
           "color": "#000"
          },
          "geo": {
           "bgcolor": "white",
           "lakecolor": "white",
           "landcolor": "white",
           "showlakes": true,
           "showland": true,
           "subunitcolor": "white"
          },
          "hoverlabel": {
           "align": "left"
          },
          "hovermode": "closest",
          "mapbox": {
           "style": "light"
          },
          "polar": {
           "angularaxis": {
            "gridcolor": "rgb(232,232,232)",
            "linecolor": "rgb(36,36,36)",
            "showgrid": false,
            "showline": true,
            "ticks": "outside"
           },
           "bgcolor": "white",
           "radialaxis": {
            "gridcolor": "rgb(232,232,232)",
            "linecolor": "rgb(36,36,36)",
            "showgrid": false,
            "showline": true,
            "ticks": "outside"
           }
          },
          "scene": {
           "xaxis": {
            "backgroundcolor": "white",
            "gridcolor": "rgb(232,232,232)",
            "gridwidth": 2,
            "linecolor": "rgb(36,36,36)",
            "showbackground": true,
            "showgrid": false,
            "showline": true,
            "ticks": "outside",
            "zeroline": false,
            "zerolinecolor": "rgb(36,36,36)"
           },
           "yaxis": {
            "backgroundcolor": "white",
            "gridcolor": "rgb(232,232,232)",
            "gridwidth": 2,
            "linecolor": "rgb(36,36,36)",
            "showbackground": true,
            "showgrid": false,
            "showline": true,
            "ticks": "outside",
            "zeroline": false,
            "zerolinecolor": "rgb(36,36,36)"
           },
           "zaxis": {
            "backgroundcolor": "white",
            "gridcolor": "rgb(232,232,232)",
            "gridwidth": 2,
            "linecolor": "rgb(36,36,36)",
            "showbackground": true,
            "showgrid": false,
            "showline": true,
            "ticks": "outside",
            "zeroline": false,
            "zerolinecolor": "rgb(36,36,36)"
           }
          },
          "shapedefaults": {
           "fillcolor": "black",
           "line": {
            "width": 0
           },
           "opacity": 0.3
          },
          "ternary": {
           "aaxis": {
            "gridcolor": "rgb(232,232,232)",
            "linecolor": "rgb(36,36,36)",
            "showgrid": false,
            "showline": true,
            "ticks": "outside"
           },
           "baxis": {
            "gridcolor": "rgb(232,232,232)",
            "linecolor": "rgb(36,36,36)",
            "showgrid": false,
            "showline": true,
            "ticks": "outside"
           },
           "bgcolor": "white",
           "caxis": {
            "gridcolor": "rgb(232,232,232)",
            "linecolor": "rgb(36,36,36)",
            "showgrid": false,
            "showline": true,
            "ticks": "outside"
           }
          },
          "title": {
           "x": 0.05
          },
          "xaxis": {
           "automargin": true,
           "gridcolor": "#fff",
           "linecolor": "#000",
           "showgrid": false,
           "showline": true,
           "ticks": "outside",
           "title": {
            "standoff": 15
           },
           "zeroline": false,
           "zerolinecolor": "#000"
          },
          "yaxis": {
           "automargin": true,
           "gridcolor": "#fff",
           "linecolor": "#000",
           "showgrid": false,
           "showline": true,
           "ticks": "outside",
           "title": {
            "standoff": 15
           },
           "zeroline": false,
           "zerolinecolor": "#000"
          }
         }
        },
        "width": 480,
        "xaxis": {
         "anchor": "y",
         "domain": [
          0,
          1
         ],
         "title": {
          "text": "x"
         }
        },
        "yaxis": {
         "anchor": "x",
         "domain": [
          0,
          1
         ],
         "title": {
          "text": "y"
         }
        }
       }
      }
     },
     "metadata": {},
     "output_type": "display_data"
    }
   ],
   "source": [
    "p = Plotter(slide_layout=\"slide_50%\")\n",
    "p.express(\n",
    "    type=\"bar\",\n",
    "    x=[1,2,3],\n",
    "    y=[1,2,3],\n",
    "    color=[1,2,3]\n",
    ")\n",
    "p.show()"
   ]
  },
  {
   "cell_type": "code",
   "execution_count": null,
   "metadata": {},
   "outputs": [],
   "source": []
  }
 ],
 "metadata": {
  "kernelspec": {
   "display_name": "venv",
   "language": "python",
   "name": "python3"
  },
  "language_info": {
   "codemirror_mode": {
    "name": "ipython",
    "version": 3
   },
   "file_extension": ".py",
   "mimetype": "text/x-python",
   "name": "python",
   "nbconvert_exporter": "python",
   "pygments_lexer": "ipython3",
   "version": "3.11.4"
  }
 },
 "nbformat": 4,
 "nbformat_minor": 2
}
