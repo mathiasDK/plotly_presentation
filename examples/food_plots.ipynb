{
 "cells": [
  {
   "cell_type": "markdown",
   "metadata": {},
   "source": [
    "# Food Plots\n",
    "Based on data from here: https://ourworldindata.org/grapher/food-emissions-supply-chain"
   ]
  },
  {
   "cell_type": "code",
   "execution_count": 1,
   "metadata": {},
   "outputs": [],
   "source": [
    "import pandas as pd\n",
    "from plotly_presentation import Plotter"
   ]
  },
  {
   "cell_type": "code",
   "execution_count": 10,
   "metadata": {},
   "outputs": [
    {
     "data": {
      "text/html": [
       "<div>\n",
       "<style scoped>\n",
       "    .dataframe tbody tr th:only-of-type {\n",
       "        vertical-align: middle;\n",
       "    }\n",
       "\n",
       "    .dataframe tbody tr th {\n",
       "        vertical-align: top;\n",
       "    }\n",
       "\n",
       "    .dataframe thead th {\n",
       "        text-align: right;\n",
       "    }\n",
       "</style>\n",
       "<table border=\"1\" class=\"dataframe\">\n",
       "  <thead>\n",
       "    <tr style=\"text-align: right;\">\n",
       "      <th></th>\n",
       "      <th>Entity</th>\n",
       "      <th>food_emissions_land_use</th>\n",
       "      <th>food_emissions_farm</th>\n",
       "      <th>food_emissions_animal_feed</th>\n",
       "      <th>food_emissions_processing</th>\n",
       "      <th>food_emissions_transport</th>\n",
       "      <th>food_emissions_retail</th>\n",
       "      <th>food_emissions_packaging</th>\n",
       "      <th>food_emissions_losses</th>\n",
       "      <th>total</th>\n",
       "    </tr>\n",
       "  </thead>\n",
       "  <tbody>\n",
       "    <tr>\n",
       "      <th>0</th>\n",
       "      <td>Apples</td>\n",
       "      <td>-0.028951</td>\n",
       "      <td>0.225816</td>\n",
       "      <td>0.000000</td>\n",
       "      <td>0.003820</td>\n",
       "      <td>0.095804</td>\n",
       "      <td>0.016578</td>\n",
       "      <td>0.044526</td>\n",
       "      <td>0.070808</td>\n",
       "      <td>0.428401</td>\n",
       "    </tr>\n",
       "    <tr>\n",
       "      <th>1</th>\n",
       "      <td>Bananas</td>\n",
       "      <td>-0.025534</td>\n",
       "      <td>0.269618</td>\n",
       "      <td>0.000000</td>\n",
       "      <td>0.060146</td>\n",
       "      <td>0.295830</td>\n",
       "      <td>0.020981</td>\n",
       "      <td>0.065670</td>\n",
       "      <td>0.175185</td>\n",
       "      <td>0.861896</td>\n",
       "    </tr>\n",
       "    <tr>\n",
       "      <th>2</th>\n",
       "      <td>Barley</td>\n",
       "      <td>0.008676</td>\n",
       "      <td>0.176377</td>\n",
       "      <td>0.000000</td>\n",
       "      <td>0.127703</td>\n",
       "      <td>0.035351</td>\n",
       "      <td>0.263587</td>\n",
       "      <td>0.496786</td>\n",
       "      <td>0.070692</td>\n",
       "      <td>1.179171</td>\n",
       "    </tr>\n",
       "    <tr>\n",
       "      <th>3</th>\n",
       "      <td>Beef (beef herd)</td>\n",
       "      <td>23.237536</td>\n",
       "      <td>56.228063</td>\n",
       "      <td>2.680979</td>\n",
       "      <td>1.811083</td>\n",
       "      <td>0.494125</td>\n",
       "      <td>0.233538</td>\n",
       "      <td>0.352084</td>\n",
       "      <td>14.439998</td>\n",
       "      <td>99.477405</td>\n",
       "    </tr>\n",
       "    <tr>\n",
       "      <th>4</th>\n",
       "      <td>Beef (dairy herd)</td>\n",
       "      <td>1.266022</td>\n",
       "      <td>21.915529</td>\n",
       "      <td>3.503673</td>\n",
       "      <td>1.547664</td>\n",
       "      <td>0.592410</td>\n",
       "      <td>0.254032</td>\n",
       "      <td>0.374549</td>\n",
       "      <td>3.847515</td>\n",
       "      <td>33.301395</td>\n",
       "    </tr>\n",
       "  </tbody>\n",
       "</table>\n",
       "</div>"
      ],
      "text/plain": [
       "              Entity  food_emissions_land_use  food_emissions_farm  \\\n",
       "0             Apples                -0.028951             0.225816   \n",
       "1            Bananas                -0.025534             0.269618   \n",
       "2             Barley                 0.008676             0.176377   \n",
       "3   Beef (beef herd)                23.237536            56.228063   \n",
       "4  Beef (dairy herd)                 1.266022            21.915529   \n",
       "\n",
       "   food_emissions_animal_feed  food_emissions_processing  \\\n",
       "0                    0.000000                   0.003820   \n",
       "1                    0.000000                   0.060146   \n",
       "2                    0.000000                   0.127703   \n",
       "3                    2.680979                   1.811083   \n",
       "4                    3.503673                   1.547664   \n",
       "\n",
       "   food_emissions_transport  food_emissions_retail  food_emissions_packaging  \\\n",
       "0                  0.095804               0.016578                  0.044526   \n",
       "1                  0.295830               0.020981                  0.065670   \n",
       "2                  0.035351               0.263587                  0.496786   \n",
       "3                  0.494125               0.233538                  0.352084   \n",
       "4                  0.592410               0.254032                  0.374549   \n",
       "\n",
       "   food_emissions_losses      total  \n",
       "0               0.070808   0.428401  \n",
       "1               0.175185   0.861896  \n",
       "2               0.070692   1.179171  \n",
       "3              14.439998  99.477405  \n",
       "4               3.847515  33.301395  "
      ]
     },
     "execution_count": 10,
     "metadata": {},
     "output_type": "execute_result"
    }
   ],
   "source": [
    "data = pd.read_csv(\"_data/food-emissions-supply-chain.csv\")\n",
    "data.drop(columns=[\"Code\", \"Year\"], inplace=True)\n",
    "data[\"total\"] = data.sum(axis=1, numeric_only=True)\n",
    "data.head()"
   ]
  },
  {
   "cell_type": "code",
   "execution_count": 15,
   "metadata": {},
   "outputs": [
    {
     "data": {
      "application/vnd.plotly.v1+json": {
       "config": {
        "plotlyServerURL": "https://plot.ly"
       },
       "data": [
        {
         "alignmentgroup": "True",
         "hovertemplate": "Entity=%{x}<br>Kilograms of<br>Carbon Dioxide Equivalents=%{text}<extra></extra>",
         "legendgroup": "",
         "marker": {
          "color": "#D73809",
          "pattern": {
           "shape": ""
          }
         },
         "name": "",
         "offsetgroup": "",
         "orientation": "v",
         "showlegend": false,
         "text": [
          99.477404614,
          46.646745190999994,
          23.877581218,
          12.305681779000002,
          4.669470952999999,
          2.0887066549999997,
          0.532172648,
          0.4967630639999999,
          0.42628005300000005
         ],
         "textposition": "auto",
         "texttemplate": "%{y:.1f}",
         "type": "bar",
         "x": [
          "Beef (beef herd)",
          "Dark Chocolate",
          "Cheese",
          "Pig Meat",
          "Eggs",
          "Tomatoes",
          "Other Vegetables",
          "Onions & Leeks",
          "Root Vegetables"
         ],
         "xaxis": "x",
         "y": [
          99.477404614,
          46.646745190999994,
          23.877581218,
          12.305681779000002,
          4.669470952999999,
          2.0887066549999997,
          0.532172648,
          0.4967630639999999,
          0.42628005300000005
         ],
         "yaxis": "y"
        }
       ],
       "layout": {
        "annotations": [
         {
          "bgcolor": "#ffffff",
          "borderpad": 4,
          "font": {
           "color": "#000000",
           "size": 14
          },
          "showarrow": false,
          "text": "-99.6%",
          "x": 4,
          "y": 110
         }
        ],
        "barmode": "relative",
        "height": 540,
        "legend": {
         "tracegroupgap": 0
        },
        "shapes": [
         {
          "line": {
           "color": "#222222",
           "width": 2
          },
          "type": "line",
          "x0": "Beef (beef herd)",
          "x1": "Beef (beef herd)",
          "y0": 104.477404614,
          "y1": 110
         },
         {
          "line": {
           "color": "#222222",
           "width": 2
          },
          "type": "line",
          "x0": "Beef (beef herd)",
          "x1": "Root Vegetables",
          "y0": 110,
          "y1": 110
         },
         {
          "line": {
           "color": "#222222",
           "width": 2
          },
          "type": "line",
          "x0": "Root Vegetables",
          "x1": "Root Vegetables",
          "y0": 110,
          "y1": 10.426280053
         }
        ],
        "template": {
         "layout": {
          "annotationdefaults": {
           "arrowcolor": "#222222",
           "arrowhead": 0,
           "arrowwidth": 1,
           "bgcolor": "#ffffff",
           "font": {
            "color": "#000000"
           }
          },
          "autotypenumbers": "strict",
          "barcornerradius": 10,
          "coloraxis": {
           "colorbar": {
            "outlinewidth": 1,
            "tickcolor": "rgb(36,36,36)",
            "ticks": "outside"
           }
          },
          "colorscale": {
           "diverging": [
            [
             0,
             "#D73809"
            ],
            [
             0.5,
             "#c2c2c2"
            ],
            [
             1,
             "#940C08"
            ]
           ],
           "sequential": [
            [
             0,
             "#D73809"
            ],
            [
             1,
             "#f98f70"
            ]
           ],
           "sequentialminus": [
            [
             0,
             "#f98f70"
            ],
            [
             1,
             "#D73809"
            ]
           ]
          },
          "colorway": [
           "#D73809",
           "#60748D",
           "#940C08",
           "#CA5E1B",
           "#BD6A5F",
           "#3D180F",
           "#C2322D",
           "#5C3431",
           "#B79F9F",
           "#CFD6D5"
          ],
          "font": {
           "color": "#000000"
          },
          "geo": {
           "lakecolor": "white",
           "landcolor": "white",
           "showlakes": true,
           "showland": true,
           "subunitcolor": "white"
          },
          "hoverlabel": {
           "align": "left"
          },
          "hovermode": "closest",
          "mapbox": {
           "style": "light"
          },
          "margin": {
           "b": 20,
           "l": 20,
           "r": 20,
           "t": 100
          },
          "paper_bgcolor": "#ffffff",
          "plot_bgcolor": "#ffffff",
          "polar": {
           "angularaxis": {
            "gridcolor": "rgb(232,232,232)",
            "linecolor": "rgb(36,36,36)",
            "showgrid": false,
            "showline": true,
            "ticks": "outside"
           },
           "radialaxis": {
            "gridcolor": "rgb(232,232,232)",
            "linecolor": "rgb(36,36,36)",
            "showgrid": false,
            "showline": true,
            "ticks": "outside"
           }
          },
          "scene": {
           "xaxis": {
            "backgroundcolor": "white",
            "gridcolor": "rgb(232,232,232)",
            "gridwidth": 2,
            "linecolor": "rgb(36,36,36)",
            "showbackground": true,
            "showgrid": false,
            "showline": true,
            "ticks": "outside",
            "zeroline": false,
            "zerolinecolor": "rgb(36,36,36)"
           },
           "yaxis": {
            "backgroundcolor": "white",
            "gridcolor": "rgb(232,232,232)",
            "gridwidth": 2,
            "linecolor": "rgb(36,36,36)",
            "showbackground": true,
            "showgrid": false,
            "showline": true,
            "ticks": "outside",
            "zeroline": false,
            "zerolinecolor": "rgb(36,36,36)"
           },
           "zaxis": {
            "backgroundcolor": "white",
            "gridcolor": "rgb(232,232,232)",
            "gridwidth": 2,
            "linecolor": "rgb(36,36,36)",
            "showbackground": true,
            "showgrid": false,
            "showline": true,
            "ticks": "outside",
            "zeroline": false,
            "zerolinecolor": "rgb(36,36,36)"
           }
          },
          "shapedefaults": {
           "fillcolor": "black",
           "line": {
            "width": 0
           }
          },
          "ternary": {
           "aaxis": {
            "gridcolor": "rgb(232,232,232)",
            "linecolor": "rgb(36,36,36)",
            "showgrid": false,
            "showline": true,
            "ticks": "outside"
           },
           "baxis": {
            "gridcolor": "rgb(232,232,232)",
            "linecolor": "rgb(36,36,36)",
            "showgrid": false,
            "showline": true,
            "ticks": "outside"
           },
           "caxis": {
            "gridcolor": "rgb(232,232,232)",
            "linecolor": "rgb(36,36,36)",
            "showgrid": false,
            "showline": true,
            "ticks": "outside"
           }
          },
          "title": {
           "x": 0.05
          },
          "xaxis": {
           "automargin": true,
           "gridcolor": "#ffffff",
           "linecolor": "#000000",
           "showgrid": false,
           "showline": true,
           "ticks": "outside",
           "title": {
            "standoff": 15
           },
           "zeroline": false,
           "zerolinecolor": "#000000"
          },
          "yaxis": {
           "automargin": true,
           "gridcolor": "#ffffff",
           "linecolor": "#000000",
           "showgrid": false,
           "showline": true,
           "ticks": "outside",
           "title": {
            "standoff": 15
           },
           "zeroline": false,
           "zerolinecolor": "#000000"
          }
         }
        },
        "title": {
         "text": "Kilograms of Carbon Dioxide Equivalents per Kilogram of Food Produced"
        },
        "width": 960,
        "xaxis": {
         "anchor": "y",
         "domain": [
          0,
          1
         ],
         "title": {}
        },
        "yaxis": {
         "anchor": "x",
         "domain": [
          0,
          1
         ],
         "title": {
          "text": "Kilograms of<br>Carbon Dioxide Equivalents"
         }
        }
       }
      }
     },
     "metadata": {},
     "output_type": "display_data"
    }
   ],
   "source": [
    "_selected_entities = [\"Beef (beef herd)\", \"Dark Chocolate\", \"Cheese\", \"Tomatoes\", \"Onions & Leeks\", \"Eggs\", \"Root Vegetables\", \"Pig Meat\", \"Other Vegetables\"]\n",
    "df = data[data[\"Entity\"].isin(_selected_entities)][[\"Entity\", \"total\"]].sort_values(by=[\"total\"], ascending=[False])\n",
    "\n",
    "# Plotting\n",
    "p = Plotter(slide_layout=\"slide_wide\")\n",
    "p.express(\n",
    "    type=\"bar\",\n",
    "    data_frame=df,\n",
    "    x=\"Entity\",\n",
    "    y=\"total\",\n",
    "    text=\"total\",\n",
    "    text_auto=\".1f\",\n",
    "    labels={\n",
    "        \"total\": \"Kilograms of<br>Carbon Dioxide Equivalents\"\n",
    "    },\n",
    "    title=\"Kilograms of Carbon Dioxide Equivalents per Kilogram of Food Produced\"\n",
    ")\n",
    "p.figure.update_layout(\n",
    "    xaxis=dict(title=None),\n",
    ")\n",
    "y0=df[df[\"Entity\"] == \"Beef (beef herd)\"][[\"total\"]].values[0][0]\n",
    "y1=df[df[\"Entity\"] == \"Root Vegetables\"][[\"total\"]].values[0][0]\n",
    "text = f\"{round((abs(y1)- abs(y0))*100 / abs(y0), 1)}%\"\n",
    "p.callout.add_square_growth_line(\n",
    "    x0=\"Beef (beef herd)\",\n",
    "    x1=\"Root Vegetables\",\n",
    "    y0=y0+5,\n",
    "    y1=y1+10,\n",
    "    y_top=110,\n",
    "    text=text\n",
    ")\n",
    "p.show()"
   ]
  },
  {
   "cell_type": "code",
   "execution_count": null,
   "metadata": {},
   "outputs": [],
   "source": []
  }
 ],
 "metadata": {
  "kernelspec": {
   "display_name": "venv",
   "language": "python",
   "name": "python3"
  },
  "language_info": {
   "codemirror_mode": {
    "name": "ipython",
    "version": 3
   },
   "file_extension": ".py",
   "mimetype": "text/x-python",
   "name": "python",
   "nbconvert_exporter": "python",
   "pygments_lexer": "ipython3",
   "version": "3.11.4"
  }
 },
 "nbformat": 4,
 "nbformat_minor": 2
}
